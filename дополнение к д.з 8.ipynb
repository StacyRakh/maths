{
 "cells": [
  {
   "cell_type": "markdown",
   "id": "b44dde23",
   "metadata": {},
   "source": [
    "Численно найти хотя бы один действительный корень системы нелинейных уравнений:\n",
    "\n",
    "{x2−y2+3xy3−2x2y2+2x−3y−5=03y3−2x2+2x3y−5x2y2+5=0"
   ]
  },
  {
   "cell_type": "code",
   "execution_count": 1,
   "id": "f5398b1a",
   "metadata": {},
   "outputs": [
    {
     "name": "stdout",
     "output_type": "stream",
     "text": [
      "1.273302064528599 1.6620391224277693\n"
     ]
    }
   ],
   "source": [
    "from scipy.optimize import fsolve, broyden2\n",
    "import math\n",
    "\n",
    "def equations(p):\n",
    "    x, y = p\n",
    "    return (x**2 - y**2 + 3 * x * y**3 - 2 * x**2 * y**2 + 2 * x - 3 * y - 5, \n",
    "        3 * y**3 - 2 * x**2 + 2 * x**3 * y - 5 * x**2 * y**2 + 5)\n",
    "\n",
    "# Численное решение системы уравнений\n",
    "x, y =  fsolve(equations, (10, 10))\n",
    "\n",
    "print (x, y)"
   ]
  },
  {
   "cell_type": "code",
   "execution_count": null,
   "id": "eb619b89",
   "metadata": {},
   "outputs": [],
   "source": []
  }
 ],
 "metadata": {
  "kernelspec": {
   "display_name": "Python 3 (ipykernel)",
   "language": "python",
   "name": "python3"
  },
  "language_info": {
   "codemirror_mode": {
    "name": "ipython",
    "version": 3
   },
   "file_extension": ".py",
   "mimetype": "text/x-python",
   "name": "python",
   "nbconvert_exporter": "python",
   "pygments_lexer": "ipython3",
   "version": "3.9.7"
  }
 },
 "nbformat": 4,
 "nbformat_minor": 5
}
