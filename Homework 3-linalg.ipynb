{
 "cells": [
  {
   "cell_type": "code",
   "execution_count": 1,
   "id": "9ec3805c",
   "metadata": {},
   "outputs": [],
   "source": [
    "import numpy as np"
   ]
  },
  {
   "cell_type": "markdown",
   "id": "67a508d1",
   "metadata": {},
   "source": [
    "Найдите сумму и произведение матриц  A=(13−20)  и  B=(40−15)."
   ]
  },
  {
   "cell_type": "code",
   "execution_count": 2,
   "id": "1fb4e463",
   "metadata": {},
   "outputs": [],
   "source": [
    "a = np.array ([[1,-2],[3,0]])\n",
    "b = np.array ([[4,-1],[0,5]])"
   ]
  },
  {
   "cell_type": "code",
   "execution_count": 3,
   "id": "7051ca92",
   "metadata": {},
   "outputs": [
    {
     "name": "stdout",
     "output_type": "stream",
     "text": [
      "Матрица ab\n",
      "[[  4 -11]\n",
      " [ 12  -3]]\n",
      "Матрица С = A + B\n",
      "[[ 5 -3]\n",
      " [ 3  5]]\n"
     ]
    }
   ],
   "source": [
    "print(f'Матрица ab\\n{np.dot(a, b)}')\n",
    "print(f'Матрица С = A + B\\n{a + b}')"
   ]
  },
  {
   "cell_type": "markdown",
   "id": "7ad8f860",
   "metadata": {},
   "source": [
    "Из закономерностей сложения и умножения матриц на число можно сделать вывод, что матрицы одного размера образуют линейное пространство. Вычислите линейную комбинацию  3A−2B+4C  для матриц  A=(137−6) ,  B=(025−1) ,  C=(21−41)."
   ]
  },
  {
   "cell_type": "code",
   "execution_count": 5,
   "id": "b045fec3",
   "metadata": {},
   "outputs": [],
   "source": [
    "A = np.array ([[1,7],[3,-6]])\n",
    "B = np.array ([[0,5],[2,-1]])\n",
    "C = np.array ([[2,-4],[1,1]])\n",
    "k = 3\n",
    "m = -2\n",
    "n = 4"
   ]
  },
  {
   "cell_type": "code",
   "execution_count": 8,
   "id": "34efa053",
   "metadata": {},
   "outputs": [
    {
     "name": "stdout",
     "output_type": "stream",
     "text": [
      "Матрица D  \n",
      "[[ 11  -5]\n",
      " [  9 -12]]\n"
     ]
    }
   ],
   "source": [
    "print(f'Матрица D  \\n{k*A+m*B+n*C}')"
   ]
  },
  {
   "cell_type": "markdown",
   "id": "56ba910a",
   "metadata": {},
   "source": [
    "Дана матрица  A=⎛⎝⎜4521−23⎞⎠⎟ . Вычислите  AAT  и  ATA ."
   ]
  },
  {
   "cell_type": "code",
   "execution_count": 9,
   "id": "ffcf9ec7",
   "metadata": {},
   "outputs": [],
   "source": [
    "A = np.array ([[4,1],[5,-2],[2,3]])\n",
    "B = A.T"
   ]
  },
  {
   "cell_type": "code",
   "execution_count": 10,
   "id": "80bb2f8b",
   "metadata": {},
   "outputs": [
    {
     "name": "stdout",
     "output_type": "stream",
     "text": [
      "Матрица AAt  \n",
      "[[17 18 11]\n",
      " [18 29  4]\n",
      " [11  4 13]]\n"
     ]
    }
   ],
   "source": [
    "print(f'Матрица AAt  \\n{np.dot(A,B)}')"
   ]
  },
  {
   "cell_type": "code",
   "execution_count": 11,
   "id": "814aedbc",
   "metadata": {},
   "outputs": [
    {
     "name": "stdout",
     "output_type": "stream",
     "text": [
      "Матрица AtA  \n",
      "[[45  0]\n",
      " [ 0 14]]\n"
     ]
    }
   ],
   "source": [
    "print(f'Матрица AtA  \\n{np.dot(B,A)}')"
   ]
  },
  {
   "cell_type": "markdown",
   "id": "7f1c6d0b",
   "metadata": {},
   "source": [
    "2 часть"
   ]
  },
  {
   "cell_type": "markdown",
   "id": "b8fb953e",
   "metadata": {},
   "source": [
    "Вычислить определитель"
   ]
  },
  {
   "cell_type": "code",
   "execution_count": 8,
   "id": "22b940e8",
   "metadata": {},
   "outputs": [],
   "source": [
    "A = np.array ([[4,2,3],[0,5,1],[0,0,9]])"
   ]
  },
  {
   "cell_type": "code",
   "execution_count": 10,
   "id": "9e43a6db",
   "metadata": {},
   "outputs": [
    {
     "name": "stdout",
     "output_type": "stream",
     "text": [
      "Определитель:\n",
      "180\n"
     ]
    }
   ],
   "source": [
    "print(f'Определитель:\\n{np.linalg.det(A):.0f}')"
   ]
  },
  {
   "cell_type": "code",
   "execution_count": 11,
   "id": "18d47c95",
   "metadata": {},
   "outputs": [],
   "source": [
    "A = np.array ([[1,2,3],[4,5,6],[7,8,9]])"
   ]
  },
  {
   "cell_type": "code",
   "execution_count": 12,
   "id": "44566279",
   "metadata": {},
   "outputs": [
    {
     "name": "stdout",
     "output_type": "stream",
     "text": [
      "Определитель:\n",
      "-0\n"
     ]
    }
   ],
   "source": [
    "print(f'Определитель:\\n{np.linalg.det(A):.0f}')"
   ]
  },
  {
   "cell_type": "raw",
   "id": "b656cab6",
   "metadata": {},
   "source": [
    "Найдите ранг матрицы:"
   ]
  },
  {
   "cell_type": "code",
   "execution_count": 14,
   "id": "ea050c30",
   "metadata": {},
   "outputs": [],
   "source": [
    "A = np.array ([[1,2,3],[1,1,1],[2,3,4]])"
   ]
  },
  {
   "cell_type": "code",
   "execution_count": 15,
   "id": "28c9b6f1",
   "metadata": {},
   "outputs": [
    {
     "name": "stdout",
     "output_type": "stream",
     "text": [
      "Ранг матрицы: 2\n"
     ]
    }
   ],
   "source": [
    "r = np.linalg.matrix_rank(A)\n",
    "\n",
    "print(f'Ранг матрицы: {r}')"
   ]
  },
  {
   "cell_type": "code",
   "execution_count": 16,
   "id": "8dd91480",
   "metadata": {},
   "outputs": [],
   "source": [
    "A = np.array ([[0,0,2,1],[0,0,2,2],[0,0,4,3],[2,3,5,6]])"
   ]
  },
  {
   "cell_type": "code",
   "execution_count": 17,
   "id": "7297f592",
   "metadata": {},
   "outputs": [
    {
     "name": "stdout",
     "output_type": "stream",
     "text": [
      "Ранг матрицы: 3\n"
     ]
    }
   ],
   "source": [
    "r = np.linalg.matrix_rank(A)\n",
    "\n",
    "print(f'Ранг матрицы: {r}')"
   ]
  },
  {
   "cell_type": "code",
   "execution_count": null,
   "id": "ab39d97b",
   "metadata": {},
   "outputs": [],
   "source": []
  }
 ],
 "metadata": {
  "kernelspec": {
   "display_name": "Python 3 (ipykernel)",
   "language": "python",
   "name": "python3"
  },
  "language_info": {
   "codemirror_mode": {
    "name": "ipython",
    "version": 3
   },
   "file_extension": ".py",
   "mimetype": "text/x-python",
   "name": "python",
   "nbconvert_exporter": "python",
   "pygments_lexer": "ipython3",
   "version": "3.9.7"
  }
 },
 "nbformat": 4,
 "nbformat_minor": 5
}
